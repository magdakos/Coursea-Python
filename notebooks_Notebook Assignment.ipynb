{
  "metadata": {
    "language_info": {
      "codemirror_mode": {
        "name": "python",
        "version": 3
      },
      "file_extension": ".py",
      "mimetype": "text/x-python",
      "name": "python",
      "nbconvert_exporter": "python",
      "pygments_lexer": "ipython3",
      "version": "3.8"
    },
    "kernelspec": {
      "name": "python",
      "display_name": "Python (Pyodide)",
      "language": "python"
    }
  },
  "nbformat_minor": 4,
  "nbformat": 4,
  "cells": [
    {
      "cell_type": "markdown",
      "source": "# H1\n**\"My Jupyter Notebook on IBM Watson Studio** ",
      "metadata": {}
    },
    {
      "cell_type": "markdown",
      "source": "**MAGDALENA** \nData Analayst",
      "metadata": {}
    },
    {
      "cell_type": "markdown",
      "source": "*I am interested in data science because it allows to find insights in unstructured at the beginning data and find solutions to problems*",
      "metadata": {}
    },
    {
      "cell_type": "markdown",
      "source": "### H3\n\"My Code is suppose to welcome people in this notebook\" ",
      "metadata": {}
    },
    {
      "cell_type": "code",
      "source": "print(\"Hello Everyone here\")",
      "metadata": {
        "trusted": true
      },
      "execution_count": 20,
      "outputs": [
        {
          "name": "stdout",
          "text": "Hello Everyone here\n",
          "output_type": "stream"
        }
      ]
    },
    {
      "cell_type": "markdown",
      "source": "1. pasta\n2. tomato\n3. coffee\n4. noodles\n5. avocado",
      "metadata": {}
    }
  ]
}